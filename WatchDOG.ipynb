{
 "cells": [
  {
   "cell_type": "code",
   "execution_count": null,
   "id": "631d42ca-9b47-4bcf-ac93-fd23b236f36d",
   "metadata": {},
   "outputs": [],
   "source": [
    "import time\n",
    "from watchdog.observers import Observer\n",
    "from watchdog.events import FileSystemEventHandler # Clase que maneja el evento \n",
    "import subprocess\n"
   ]
  },
  {
   "cell_type": "code",
   "execution_count": null,
   "id": "0ee934fe-4e91-4d1e-b8fa-e845a547841b",
   "metadata": {},
   "outputs": [],
   "source": [
    "class NuevoArchivoHandler(FileSystemEventHandler): # Mi clase hereda de lo clase principal\n",
    "    def on_created(self, event): # Sobre escribo el metodo que se ejecuta cuando se activa el watchdog \n",
    "        if not event.is_directory:\n",
    "            print(f\"Nuevo archivo detectado: {event.src_path}\")\n",
    "            ejecutar_script(event.src_path)\n",
    "\n",
    "def ejecutar_script(ruta_archivo):\n",
    "    # Aquí va tu lógica personalizada\n",
    "    print(f\"Ejecutando script para: {ruta_archivo}\")\n",
    "\n",
    "\n",
    "\n",
    "\n",
    "\n",
    "    \n",
    "    \n",
    "    subprocess.run([\"python\", r\"E:\\Scripts\\Wpp.py\", ruta_archivo])\n",
    "    \n",
    "    # Por ejemplo, podrías llamar a otro script con subprocess\n",
    "\n",
    "if __name__ == \"__main__\":\n",
    "    path = r\"E:\\Scripts\" # ruta a monitorear\n",
    "    event_handler = NuevoArchivoHandler() #instancio mi clase creada\n",
    "    observer = Observer() # instancia de observer \n",
    "    observer.schedule(event_handler, path, recursive=False)\n",
    "    observer.start()\n",
    "\n",
    "    try:\n",
    "        while True:\n",
    "            time.sleep(1)\n",
    "    except KeyboardInterrupt:\n",
    "        observer.stop()\n",
    "    observer.join()"
   ]
  }
 ],
 "metadata": {
  "kernelspec": {
   "display_name": "Python 3 (ipykernel)",
   "language": "python",
   "name": "python3"
  },
  "language_info": {
   "codemirror_mode": {
    "name": "ipython",
    "version": 3
   },
   "file_extension": ".py",
   "mimetype": "text/x-python",
   "name": "python",
   "nbconvert_exporter": "python",
   "pygments_lexer": "ipython3",
   "version": "3.11.5"
  }
 },
 "nbformat": 4,
 "nbformat_minor": 5
}
